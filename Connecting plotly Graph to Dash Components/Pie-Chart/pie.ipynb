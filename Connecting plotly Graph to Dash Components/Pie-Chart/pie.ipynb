{
 "cells": [
  {
   "cell_type": "code",
   "execution_count": null,
   "metadata": {},
   "outputs": [],
   "source": [
    "import pandas as pd\n",
    "\n",
    "import dash\n",
    "import dash_core_components as dcc\n",
    "import dash_html_components as html\n",
    "from dash.dependencies import Input, Output\n",
    "import plotly.express as px"
   ]
  },
  {
   "cell_type": "code",
   "execution_count": 9,
   "metadata": {},
   "outputs": [],
   "source": [
    "df = pd.read_csv(\"Urban_Park_Ranger_Animal_Condition_Response.csv\")"
   ]
  },
  {
   "cell_type": "code",
   "execution_count": null,
   "metadata": {},
   "outputs": [],
   "source": [
    "# you need to include __name__ in your Dash constructor if\n",
    "# you plan to use a custom CSS or JavaScript in your Dash apps\n",
    "app = dash.Dash(__name__)\n",
    "app.layout = html.Div([\n",
    "    html.Div([\n",
    "        html.Label(['NYC Calls for Animal Rescue']),\n",
    "        dcc.Dropdown(\n",
    "            id='my_dropdown',\n",
    "            options=[\n",
    "                     {'label': 'Action Taken by Ranger', 'value': 'Final Ranger Action'},\n",
    "                     {'label': 'Age', 'value': 'Age'},\n",
    "                     {'label': 'Animal Health', 'value': 'Animal Condition'},\n",
    "                     {'label': 'Borough', 'value': 'Borough'},\n",
    "                     {'label': 'Species', 'value': 'Animal Class'},\n",
    "                     {'label': 'Species Status', 'value': 'Species Status'}\n",
    "            ],\n",
    "            value='Animal Class',\n",
    "            multi=False,\n",
    "            clearable=False,\n",
    "            style={\"width\": \"50%\"}\n",
    "        ),\n",
    "    ]),\n",
    "\n",
    "    html.Div([\n",
    "        dcc.Graph(id='the_graph')\n",
    "    ]),\n",
    "\n",
    "])\n",
    "\n",
    "#---------------------------------------------------------------\n",
    "@app.callback(\n",
    "    Output(component_id='the_graph', component_property='figure'),\n",
    "    [Input(component_id='my_dropdown', component_property='value')]\n",
    ")\n",
    "\n",
    "def update_graph(my_dropdown):\n",
    "    dff = df\n",
    "\n",
    "    piechart=px.pie(\n",
    "            data_frame=dff,\n",
    "            names=my_dropdown,\n",
    "            hole=.3,\n",
    "            )\n",
    "\n",
    "    return (piechart)\n",
    "\n",
    "\n",
    "if __name__ == '__main__':\n",
    "    app.run_server(port=8888, use_reloader=False)"
   ]
  },
  {
   "cell_type": "code",
   "execution_count": null,
   "metadata": {},
   "outputs": [],
   "source": []
  }
 ],
 "metadata": {
  "interpreter": {
   "hash": "9289730f6ef76d647fc4c96d98bf30b90de40bbe559c9a501f45b76f8000c4e6"
  },
  "kernelspec": {
   "display_name": "Python 3.9.7 ('poc')",
   "language": "python",
   "name": "python3"
  },
  "language_info": {
   "codemirror_mode": {
    "name": "ipython",
    "version": 3
   },
   "file_extension": ".py",
   "mimetype": "text/x-python",
   "name": "python",
   "nbconvert_exporter": "python",
   "pygments_lexer": "ipython3",
   "version": "3.9.7"
  },
  "orig_nbformat": 4
 },
 "nbformat": 4,
 "nbformat_minor": 2
}
