{
 "cells": [
  {
   "cell_type": "code",
   "execution_count": 4,
   "metadata": {},
   "outputs": [
    {
     "name": "stdout",
     "output_type": "stream",
     "text": [
      "        date state  positive  negative  pending  death    total  \\\n",
      "4   20200317    CA     483.0    7981.0      NaN   11.0   8407.0   \n",
      "9   20200317    FL     186.0     940.0      NaN    6.0   1126.0   \n",
      "34  20200317    NY    1700.0    5506.0      NaN    7.0   7206.0   \n",
      "47  20200317    WA     904.0   11582.0      NaN   48.0  12486.0   \n",
      "\n",
      "                 dateChecked  \n",
      "4  2020-03-17 20:00:00+00:00  \n",
      "9  2020-03-17 20:00:00+00:00  \n",
      "34 2020-03-17 20:00:00+00:00  \n",
      "47 2020-03-17 20:00:00+00:00  \n"
     ]
    },
    {
     "data": {
      "application/vnd.plotly.v1+json": {
       "config": {
        "plotlyServerURL": "https://plot.ly"
       },
       "data": [
        {
         "customdata": [
          [
           "CA"
          ],
          [
           "FL"
          ],
          [
           "NY"
          ],
          [
           "WA"
          ]
         ],
         "domain": {
          "x": [
           0,
           1
          ],
          "y": [
           0,
           1
          ]
         },
         "hole": 0.5,
         "hovertemplate": "<b>%{hovertext}</b><br><br>the State=%{customdata[0]}<br>death=%{value}<extra></extra>",
         "hovertext": [
          7981,
          940,
          5506,
          11582
         ],
         "labels": [
          "CA",
          "FL",
          "NY",
          "WA"
         ],
         "legendgroup": "",
         "marker": {
          "colors": [
           "red",
           "green",
           "blue",
           "orange"
          ]
         },
         "name": "",
         "showlegend": true,
         "type": "pie",
         "values": [
          11,
          6,
          7,
          48
         ]
        }
       ],
       "layout": {
        "height": 600,
        "legend": {
         "tracegroupgap": 0
        },
        "piecolorway": [
         "red",
         "green",
         "blue",
         "orange"
        ],
        "template": {
         "data": {
          "pie": [
           {
            "automargin": true,
            "type": "pie"
           }
          ],
          "scatter": [
           {
            "line": {
             "width": 3
            },
            "marker": {
             "size": 9
            },
            "type": "scatter"
           }
          ],
          "scatter3d": [
           {
            "line": {
             "width": 3
            },
            "marker": {
             "size": 9
            },
            "type": "scatter3d"
           }
          ],
          "scattergeo": [
           {
            "line": {
             "width": 3
            },
            "marker": {
             "size": 9
            },
            "type": "scattergeo"
           }
          ],
          "scattergl": [
           {
            "line": {
             "width": 3
            },
            "marker": {
             "size": 9
            },
            "type": "scattergl"
           }
          ],
          "scatterpolar": [
           {
            "line": {
             "width": 3
            },
            "marker": {
             "size": 9
            },
            "type": "scatterpolar"
           }
          ],
          "scatterpolargl": [
           {
            "line": {
             "width": 3
            },
            "marker": {
             "size": 9
            },
            "type": "scatterpolargl"
           }
          ],
          "scatterternary": [
           {
            "line": {
             "width": 3
            },
            "marker": {
             "size": 9
            },
            "type": "scatterternary"
           }
          ],
          "table": [
           {
            "cells": {
             "height": 30
            },
            "header": {
             "height": 36
            },
            "type": "table"
           }
          ]
         },
         "layout": {
          "font": {
           "size": 18
          },
          "xaxis": {
           "title": {
            "standoff": 15
           }
          },
          "yaxis": {
           "title": {
            "standoff": 15
           }
          }
         }
        },
        "title": {
         "text": "Coronavirus in the USA"
        },
        "width": 800
       }
      }
     },
     "metadata": {},
     "output_type": "display_data"
    }
   ],
   "source": [
    "import pandas as pd     #(version 1.0.0)\n",
    "import plotly           #(version 4.5.4) #pip install plotly==4.5.4\n",
    "import plotly.express as px\n",
    "import plotly.io as pio\n",
    "\n",
    "#------------------------------------------------------------------------\n",
    "# Filter the data\n",
    "# Data from https://covidtracking.com/api/\n",
    "df = pd.read_csv(\"covid-19-states-daily.csv\")\n",
    "df['dateChecked'] = pd.to_datetime(df['dateChecked'])\n",
    "df = df[df['dateChecked'].dt.date.astype(str) == '2020-03-17']\n",
    "df = df[df['death']>=5]\n",
    "print (df)\n",
    "\n",
    "pie_chart = px.pie(\n",
    "        data_frame=df,\n",
    "        values='death',\n",
    "        names='state',\n",
    "        color='state',                      #differentiate markers (discrete) by color\n",
    "        color_discrete_sequence=[\"red\",\"green\",\"blue\",\"orange\"],     #set marker colors\n",
    "        # color_discrete_map={\"WA\":\"yellow\",\"CA\":\"red\",\"NY\":\"black\",\"FL\":\"brown\"},\n",
    "        hover_name='negative',              #values appear in bold in the hover tooltip\n",
    "        # hover_data=['positive'],            #values appear as extra data in the hover tooltip\n",
    "        # custom_data=['total'],              #values are extra data to be used in Dash callbacks\n",
    "        labels={\"state\":\"the State\"},       #map the labels\n",
    "        title='Coronavirus in the USA',     #figure title\n",
    "        template='presentation',            #'ggplot2', 'seaborn', 'simple_white', 'plotly',\n",
    "                                            #'plotly_white', 'plotly_dark', 'presentation',\n",
    "                                            #'xgridoff', 'ygridoff', 'gridon', 'none'\n",
    "        width=800,                          #figure width in pixels\n",
    "        height=600,                         #figure height in pixels\n",
    "        hole=0.5,                           #represents the hole in middle of pie\n",
    "        )\n",
    "\n",
    "#pie_chart.update_traces(textposition='outside', textinfo='percent+label',\n",
    " #                        marker=dict(line=dict(color='#000000', width=4)),\n",
    " #                       pull=[0, 0, 0.2, 0], opacity=0.7, rotation=180)\n",
    "\n",
    "\n",
    "\n",
    "pio.show(pie_chart)"
   ]
  },
  {
   "cell_type": "code",
   "execution_count": null,
   "metadata": {},
   "outputs": [],
   "source": []
  }
 ],
 "metadata": {
  "interpreter": {
   "hash": "9289730f6ef76d647fc4c96d98bf30b90de40bbe559c9a501f45b76f8000c4e6"
  },
  "kernelspec": {
   "display_name": "Python 3.9.7",
   "language": "python",
   "name": "python3"
  },
  "language_info": {
   "codemirror_mode": {
    "name": "ipython",
    "version": 3
   },
   "file_extension": ".py",
   "mimetype": "text/x-python",
   "name": "python",
   "nbconvert_exporter": "python",
   "pygments_lexer": "ipython3",
   "version": "3.9.7"
  },
  "orig_nbformat": 4
 },
 "nbformat": 4,
 "nbformat_minor": 2
}
